{
 "cells": [
  {
   "cell_type": "code",
   "execution_count": null,
   "metadata": {},
   "outputs": [],
   "source": [
    "# converting in gray frame\n",
    "import cv2 as cv\n",
    "cap= cv.VideoCapture('resorces/video1.mp4')\n",
    "while(True):\n",
    "    (ret, frame) = cap.read()\n",
    "    grayframe=cv.cvtColor(frame,cv.COLOR_BGR2GRAY)\n",
    "    if ret ==True:\n",
    "        cv.imshow('video1',grayframe)\n",
    "    if cv.waitKey(0) & 0xFF ==ord('q'):\n",
    "            break\n",
    "    else:\n",
    "        break\n",
    "cap.release()\n",
    "cv.destroyAllWindows()     "
   ]
  },
  {
   "cell_type": "code",
   "execution_count": null,
   "metadata": {},
   "outputs": [],
   "source": [
    "# converting in black and white frame\n",
    "import cv2 as cv\n",
    "cap= cv.VideoCapture('resorces/video1.mp4')\n",
    "while(True):\n",
    "    (ret, frame) = cap.read()\n",
    "    grayframe= cv.cvtColor(frame,cv.COLOR_BGR2GRAY)\n",
    "    thresh,binary = cv.threshold(grayframe, 127, 255, cv.THRESH_BINARY)\n",
    "    if ret ==True:\n",
    "        cv.imshow('video1',binary)\n",
    "    if cv.waitKey(0) & 0xFF ==ord('q'):\n",
    "            break\n",
    "    else:\n",
    "        break\n",
    "cap.release()\n",
    "cv.destroyAllWindows()   "
   ]
  }
 ],
 "metadata": {
  "kernelspec": {
   "display_name": "base",
   "language": "python",
   "name": "python3"
  },
  "language_info": {
   "name": "python",
   "version": "3.8.3"
  },
  "orig_nbformat": 4,
  "vscode": {
   "interpreter": {
    "hash": "ad2bdc8ecc057115af97d19610ffacc2b4e99fae6737bb82f5d7fb13d2f2c186"
   }
  }
 },
 "nbformat": 4,
 "nbformat_minor": 2
}
