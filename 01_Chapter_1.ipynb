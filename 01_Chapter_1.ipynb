{
 "cells": [
  {
   "cell_type": "code",
   "execution_count": null,
   "metadata": {},
   "outputs": [],
   "source": [
    "# Reading an image and displing it.\n",
    "\n",
    "import cv2 as cv \n",
    "img= cv.imread(\"resorces/image2.jpg\")\n",
    "cv.imshow(\"window\",img)\n",
    "cv.waitKey(5000)"
   ]
  }
 ],
 "metadata": {
  "kernelspec": {
   "display_name": "Python 3",
   "language": "python",
   "name": "python3"
  },
  "language_info": {
   "codemirror_mode": {
    "name": "ipython",
    "version": 3
   },
   "file_extension": ".py",
   "mimetype": "text/x-python",
   "name": "python",
   "nbconvert_exporter": "python",
   "pygments_lexer": "ipython3",
   "version": "3.9.13"
  },
  "orig_nbformat": 4,
  "vscode": {
   "interpreter": {
    "hash": "afb93d7ccf5aac80eed50588cda9af520ce4b5f584ef05a8709c4e68c6c8b276"
   }
  }
 },
 "nbformat": 4,
 "nbformat_minor": 2
}
