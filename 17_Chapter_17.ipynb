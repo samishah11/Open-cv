{
 "cells": [
  {
   "cell_type": "code",
   "execution_count": 11,
   "metadata": {},
   "outputs": [],
   "source": [
    "# Joining two image\n",
    "import cv2 as cv\n",
    "import numpy as np\n",
    "\n",
    "img= cv.imread(\"resorces/image6.jpg\")\n",
    "img= cv.resize(img,(300,500))\n",
    "# Horizontal stack\n",
    "hor_img= np.hstack((img,img))    # 1\n",
    "# Vertical stack\n",
    "ver_img= np.vstack((img,img))    # 2\n",
    "\n",
    "\n",
    "\n",
    "cv.imshow(\"Horizontal\",hor_img)    # 1\n",
    "cv.imshow(\"Vertical\",ver_img)      # 2\n",
    "\n",
    "\n",
    "cv.waitKey(0)\n",
    "cv.destroyAllWindows()"
   ]
  }
 ],
 "metadata": {
  "kernelspec": {
   "display_name": "base",
   "language": "python",
   "name": "python3"
  },
  "language_info": {
   "codemirror_mode": {
    "name": "ipython",
    "version": 3
   },
   "file_extension": ".py",
   "mimetype": "text/x-python",
   "name": "python",
   "nbconvert_exporter": "python",
   "pygments_lexer": "ipython3",
   "version": "3.8.3"
  },
  "orig_nbformat": 4,
  "vscode": {
   "interpreter": {
    "hash": "ad2bdc8ecc057115af97d19610ffacc2b4e99fae6737bb82f5d7fb13d2f2c186"
   }
  }
 },
 "nbformat": 4,
 "nbformat_minor": 2
}
