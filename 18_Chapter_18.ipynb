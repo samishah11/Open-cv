{
 "cells": [
  {
   "cell_type": "code",
   "execution_count": 20,
   "metadata": {},
   "outputs": [
    {
     "name": "stdout",
     "output_type": "stream",
     "text": [
      "372  221\n",
      "361  236\n"
     ]
    }
   ],
   "source": [
    "# Coordinate of an image\n",
    "# BGR color codes from an image\n",
    "\n",
    "import cv2 as cv\n",
    "import numpy as np\n",
    "img= cv.imread(\"resorces/image5.jpg\")\n",
    "# for coordinate\n",
    "def find_coord(event,x,y,flags,params):\n",
    "    if event==cv.EVENT_LBUTTONDOWN:\n",
    "        print(x,'',y)\n",
    "        font=cv.CC_STAT_AREA\n",
    "        cv.putText(img,str(x) + ','+ str(y),(x,y),font,1,(255,50,0),thickness=2)\n",
    "        cv.imshow(\"image\",img)\n",
    "    # for color finding\n",
    "    if event == cv.EVENT_RBUTTONDOWN:\n",
    "        print(x,'',y)\n",
    "        font=cv.FONT_ITALIC\n",
    "        b = img[y,x,0]\n",
    "        g = img[y,x,1]\n",
    "        r = img[y,x,2]\n",
    "        cv.putText(img,str(b) + ','+ str(g) +','+ str(g),(x,y),font,1,(125,0,50),3)\n",
    "        cv.imshow(\"image\",img)\n",
    "\n",
    "if __name__==\"__main__\":\n",
    "    img= cv.imread(\"resorces/image5.jpg\",1)\n",
    "    img= cv.resize(img,(700,600))\n",
    "    cv.imshow(\"image\",img)\n",
    "    cv.setMouseCallback(\"image\",find_coord)\n",
    "    cv.waitKey(0)\n",
    "    cv.destroyAllWindows()"
   ]
  }
 ],
 "metadata": {
  "kernelspec": {
   "display_name": "base",
   "language": "python",
   "name": "python3"
  },
  "language_info": {
   "codemirror_mode": {
    "name": "ipython",
    "version": 3
   },
   "file_extension": ".py",
   "mimetype": "text/x-python",
   "name": "python",
   "nbconvert_exporter": "python",
   "pygments_lexer": "ipython3",
   "version": "3.8.3"
  },
  "orig_nbformat": 4,
  "vscode": {
   "interpreter": {
    "hash": "ad2bdc8ecc057115af97d19610ffacc2b4e99fae6737bb82f5d7fb13d2f2c186"
   }
  }
 },
 "nbformat": 4,
 "nbformat_minor": 2
}
