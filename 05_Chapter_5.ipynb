{
 "cells": [
  {
   "cell_type": "code",
   "execution_count": 5,
   "metadata": {},
   "outputs": [
    {
     "data": {
      "text/plain": [
       "True"
      ]
     },
     "execution_count": 5,
     "metadata": {},
     "output_type": "execute_result"
    }
   ],
   "source": [
    "# Image saving and image writing image in resorces folder.\n",
    "import cv2 as cv\n",
    "from cv2 import imshow\n",
    "from cv2 import imwrite\n",
    "\n",
    "img= cv.imread(\"resorces/image1.jpg\")\n",
    "gray= cv.cvtColor(img,cv.COLOR_BGR2GRAY)\n",
    "imwrite(\"resorces/image_gray.jpg\",gray)\n"
   ]
  },
  {
   "cell_type": "code",
   "execution_count": 7,
   "metadata": {},
   "outputs": [
    {
     "data": {
      "text/plain": [
       "True"
      ]
     },
     "execution_count": 7,
     "metadata": {},
     "output_type": "execute_result"
    }
   ],
   "source": [
    "# Image saving and image writing image/resizing\n",
    "import cv2 as cv\n",
    "from cv2 import imshow\n",
    "from cv2 import imwrite\n",
    "\n",
    "img= cv.imread(\"resorces/image1.jpg\")\n",
    "img= cv.resize(img,(800,800))\n",
    "gray= cv.cvtColor(img,cv.COLOR_BGR2GRAY)\n",
    "\n",
    "imwrite(\"image_gray.jpg\",gray)\n"
   ]
  },
  {
   "cell_type": "code",
   "execution_count": 1,
   "metadata": {},
   "outputs": [
    {
     "data": {
      "text/plain": [
       "True"
      ]
     },
     "execution_count": 1,
     "metadata": {},
     "output_type": "execute_result"
    }
   ],
   "source": [
    "# Two Images saving and image writing image in resorces folder\n",
    "import cv2 as cv\n",
    "from cv2 import imshow\n",
    "from cv2 import imwrite\n",
    "\n",
    "img= cv.imread(\"resorces/image1.jpg\")\n",
    "gray= cv.cvtColor(img,cv.COLOR_BGR2GRAY)\n",
    "thresh,binary = cv.threshold(gray, 127, 255, cv.THRESH_BINARY)\n",
    "imwrite('resorces/black and white.jpg',binary)\n",
    "imwrite(\"resorces/image_gray.jpg\",gray)\n"
   ]
  }
 ],
 "metadata": {
  "kernelspec": {
   "display_name": "base",
   "language": "python",
   "name": "python3"
  },
  "language_info": {
   "codemirror_mode": {
    "name": "ipython",
    "version": 3
   },
   "file_extension": ".py",
   "mimetype": "text/x-python",
   "name": "python",
   "nbconvert_exporter": "python",
   "pygments_lexer": "ipython3",
   "version": "3.8.3"
  },
  "orig_nbformat": 4,
  "vscode": {
   "interpreter": {
    "hash": "ad2bdc8ecc057115af97d19610ffacc2b4e99fae6737bb82f5d7fb13d2f2c186"
   }
  }
 },
 "nbformat": 4,
 "nbformat_minor": 2
}
