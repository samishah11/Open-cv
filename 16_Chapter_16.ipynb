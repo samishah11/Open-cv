{
 "cells": [
  {
   "cell_type": "code",
   "execution_count": 4,
   "metadata": {},
   "outputs": [],
   "source": [
    "# Saving hd recording of Cam streaming(Original)\n",
    "import cv2 as cv\n",
    "import numpy as np\n",
    "cap= cv.VideoCapture(0)\n",
    "# resolution hd (1280x720)    # 1\n",
    "def hd_resolution():\n",
    "    cap.set(3,1280)\n",
    "    cap.set(4,720)\n",
    "#  resolution mp4 (640x480)    # 2\n",
    "def sd_resolution():\n",
    "    cap.set(3,640)\n",
    "    cap.set(4,480)\n",
    "# resolution fhd (1920x1080)    # 3\n",
    "def fhd_resolution():\n",
    "    cap.set(3,1920)\n",
    "    cap.set(4,1080)\n",
    "    \n",
    "    \n",
    "    \n",
    "hd_resolution()     # 1\n",
    "# sd_resolution()     # 2\n",
    "# fhd_resolution()      # 3\n",
    "frame_width= int(cap.get(3))\n",
    "frame_hight= int(cap.get(4))\n",
    "out=cv.VideoWriter('resorces/cam_video1.avi',cv.VideoWriter_fourcc('M', 'J', 'P','G'),10,(frame_width,frame_hight))\n",
    "while(True):\n",
    "    (ret, frame) = cap.read()\n",
    "    if ret ==True:\n",
    "       out.write(frame)\n",
    "       cv.imshow('video',frame)\n",
    "       if cv.waitKey(1) & 0xFF ==ord('q'):\n",
    "            break\n",
    "    else:\n",
    "        break\n",
    "cap.release()\n",
    "out.release()\n",
    "cv.destroyAllWindows() "
   ]
  },
  {
   "cell_type": "code",
   "execution_count": 5,
   "metadata": {},
   "outputs": [],
   "source": [
    "# Saving hd recording of Cam streaming(Gray)\n",
    "import cv2 as cv\n",
    "import numpy as np\n",
    "cap= cv.VideoCapture(0)\n",
    "# resolution hd (1280x720)     # 1\n",
    "def hd_resolution():\n",
    "    cap.set(3,1280)\n",
    "    cap.set(4,720)\n",
    "# resolution mp4 (640x480)     # 2\n",
    "def sd_resolution():\n",
    "    cap.set(3,640)\n",
    "    cap.set(4,480)\n",
    "# resolution fhd (1920x1080)   # 3\n",
    "def fhd_resolution():\n",
    "    cap.set(3,1920)\n",
    "    cap.set(4,1080)\n",
    "\n",
    "\n",
    "\n",
    "hd_resolution()     # 1\n",
    "# sd_resolution()     # 2\n",
    "# fhd_resolution()    # 3\n",
    "frame_width= int(cap.get(3))\n",
    "frame_hight= int(cap.get(4))\n",
    "out=cv.VideoWriter('resorces/cam_video2.avi',cv.VideoWriter_fourcc('M', 'J', 'P','G'),10,(frame_width,frame_hight),isColor= False)\n",
    "while(True):\n",
    "    (ret, frame) = cap.read()\n",
    "    gray_frame= cv.cvtColor(frame,cv.COLOR_BGR2GRAY)\n",
    "    if ret ==True:\n",
    "       out.write(gray_frame)\n",
    "       cv.imshow('video',gray_frame)\n",
    "       if cv.waitKey(1) & 0xFF ==ord('q'):\n",
    "            break\n",
    "    else:\n",
    "        break\n",
    "cap.release()\n",
    "out.release()\n",
    "cv.destroyAllWindows() "
   ]
  }
 ],
 "metadata": {
  "kernelspec": {
   "display_name": "base",
   "language": "python",
   "name": "python3"
  },
  "language_info": {
   "codemirror_mode": {
    "name": "ipython",
    "version": 3
   },
   "file_extension": ".py",
   "mimetype": "text/x-python",
   "name": "python",
   "nbconvert_exporter": "python",
   "pygments_lexer": "ipython3",
   "version": "3.8.3"
  },
  "orig_nbformat": 4,
  "vscode": {
   "interpreter": {
    "hash": "ad2bdc8ecc057115af97d19610ffacc2b4e99fae6737bb82f5d7fb13d2f2c186"
   }
  }
 },
 "nbformat": 4,
 "nbformat_minor": 2
}
