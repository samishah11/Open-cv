{
 "cells": [
  {
   "cell_type": "code",
   "execution_count": 3,
   "metadata": {},
   "outputs": [],
   "source": [
    "# split your video into frame\n",
    "import cv2 as cv\n",
    "cap= cv.VideoCapture('resorces/video2.mp4')\n",
    "frameNum= 0\n",
    "while(True):\n",
    "    success,frame= cap.read()\n",
    "    if success:\n",
    "        cv.imwrite(f\"resorces/frame/frame_{frameNum}.jpg\",frame)\n",
    "    else:\n",
    "        break\n",
    "    frameNum = frameNum+1\n",
    "cap.release()\n"
   ]
  }
 ],
 "metadata": {
  "kernelspec": {
   "display_name": "base",
   "language": "python",
   "name": "python3"
  },
  "language_info": {
   "codemirror_mode": {
    "name": "ipython",
    "version": 3
   },
   "file_extension": ".py",
   "mimetype": "text/x-python",
   "name": "python",
   "nbconvert_exporter": "python",
   "pygments_lexer": "ipython3",
   "version": "3.8.3"
  },
  "orig_nbformat": 4,
  "vscode": {
   "interpreter": {
    "hash": "ad2bdc8ecc057115af97d19610ffacc2b4e99fae6737bb82f5d7fb13d2f2c186"
   }
  }
 },
 "nbformat": 4,
 "nbformat_minor": 2
}
