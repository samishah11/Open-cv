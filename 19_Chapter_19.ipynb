{
 "cells": [
  {
   "cell_type": "code",
   "execution_count": 54,
   "metadata": {},
   "outputs": [],
   "source": [
    "# How to change the perspective of an image\n",
    "import cv2 as cv\n",
    "import numpy as np\n",
    "img= cv.imread(\"resorces/warp1.png\")\n",
    "# img= cv.resize(img,(800,500))\n",
    "# print(img.shape)\n",
    "#     # Defing point\n",
    "\n",
    "# width,height= 1210,1600\n",
    "point1= np.float32([[100,85],[224,73],[32,213],[308,217]])\n",
    "width= 343\n",
    "height=406\n",
    "\n",
    "point2= np.float32([[0,0],[343,0],[0,406],[width,height]])\n",
    "matrix= cv.getPerspectiveTransform(point1,point2)\n",
    "out_img= cv.warpPerspective(img,matrix,(width,height))\n",
    "# out_img= cv.resize(img,(800,500))\n",
    "cv.imshow(\"Original\",img)\n",
    "cv.imshow(\"transformed\",out_img)\n",
    "cv.waitKey(0)\n",
    "cv.destroyAllWindows()"
   ]
  }
 ],
 "metadata": {
  "kernelspec": {
   "display_name": "base",
   "language": "python",
   "name": "python3"
  },
  "language_info": {
   "codemirror_mode": {
    "name": "ipython",
    "version": 3
   },
   "file_extension": ".py",
   "mimetype": "text/x-python",
   "name": "python",
   "nbconvert_exporter": "python",
   "pygments_lexer": "ipython3",
   "version": "3.8.3"
  },
  "orig_nbformat": 4,
  "vscode": {
   "interpreter": {
    "hash": "ad2bdc8ecc057115af97d19610ffacc2b4e99fae6737bb82f5d7fb13d2f2c186"
   }
  }
 },
 "nbformat": 4,
 "nbformat_minor": 2
}
