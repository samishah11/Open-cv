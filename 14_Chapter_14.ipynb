{
 "cells": [
  {
   "cell_type": "code",
   "execution_count": 61,
   "metadata": {},
   "outputs": [],
   "source": [
    "# How to draw lines and shapes\n",
    "import cv2 as cv\n",
    "import numpy as np\n",
    "# Draw a canvas\n",
    "img= np.zeros((600,600))  # For black\n",
    "img1= np.ones((600,600))  # For ones\n",
    "# adding colors\n",
    "colored_img= np.zeros((600,600,3),np.uint8)\n",
    "colored_img[:]=255,0,255  # color complet image\n",
    "colored_img[150:200,50:300]=0,0,255  # part of image colored\n",
    "# adding line\n",
    "cv.line(colored_img,(0,0),(600,600),(30,200,300),10)  # complet line\n",
    "cv.line(colored_img,(0,0),(300,300),(4,50,0),2)  # part of line\n",
    "# adding rectangle\n",
    "cv.rectangle(colored_img,(400,500),(250,300),(200,0,50),5)  #draw\n",
    "cv.rectangle(colored_img,(400,500),(250,300),(20,200,20),cv.FILLED) #filled\n",
    "# adding circle\n",
    "cv.circle(colored_img,(420,150),100,(400,100,100),10)  #draw\n",
    "cv.circle(colored_img,(420,150),100,(100,10,0),cv.FILLED)  # filled\n",
    "# Adding text\n",
    "cv.putText(colored_img,\"HELLO\",(50,550),cv.ACCESS_MASK,2,(120,400,400),5)\n",
    "\n",
    "\n",
    "\n",
    "# cv.imshow('black',img)\n",
    "# cv.imshow('white',img1)\n",
    "cv.imshow('colored',colored_img)\n",
    "cv.waitKey(0)\n",
    "cv.destroyAllWindows()"
   ]
  }
 ],
 "metadata": {
  "kernelspec": {
   "display_name": "base",
   "language": "python",
   "name": "python3"
  },
  "language_info": {
   "codemirror_mode": {
    "name": "ipython",
    "version": 3
   },
   "file_extension": ".py",
   "mimetype": "text/x-python",
   "name": "python",
   "nbconvert_exporter": "python",
   "pygments_lexer": "ipython3",
   "version": "3.8.3"
  },
  "orig_nbformat": 4,
  "vscode": {
   "interpreter": {
    "hash": "ad2bdc8ecc057115af97d19610ffacc2b4e99fae6737bb82f5d7fb13d2f2c186"
   }
  }
 },
 "nbformat": 4,
 "nbformat_minor": 2
}
