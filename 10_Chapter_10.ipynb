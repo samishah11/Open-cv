{
 "cells": [
  {
   "cell_type": "code",
   "execution_count": 2,
   "metadata": {},
   "outputs": [],
   "source": [
    "# converting camera in gray form\n",
    "import cv2 as cv\n",
    "import numpy as np\n",
    "# from matplotlib.colors import is_color_like\n",
    "cap= cv.VideoCapture(0) # camera no 1=0,no 2=1\n",
    "while(True):\n",
    "    ret,frame = cap.read()\n",
    "    gray_frame= cv.cvtColor(frame,cv.COLOR_BGR2GRAY)\n",
    "    if ret ==True:\n",
    "        cv.imshow('originalcam',frame)\n",
    "        cv.imshow('graycam',gray_frame)\n",
    "        if cv.waitKey(1) & 0xFF == ord('q'):\n",
    "           break\n",
    "    else:\n",
    "        break\n",
    "cap.release()\n",
    "cv.destroyAllWindows()"
   ]
  },
  {
   "cell_type": "code",
   "execution_count": 7,
   "metadata": {},
   "outputs": [],
   "source": [
    "# converting camera in black & white form\n",
    "import cv2 as cv\n",
    "import numpy as np\n",
    "# from matplotlib.colors import is_color_like\n",
    "cap= cv.VideoCapture(0) # camera no 1=0,no 2=1\n",
    "while(True):\n",
    "    ret,frame = cap.read()\n",
    "    gray_frame= cv.cvtColor(frame,cv.COLOR_BGR2GRAY)\n",
    "    thresh,binary = cv.threshold(gray_frame, 127, 255, cv.THRESH_BINARY)\n",
    "    if ret ==True:\n",
    "        cv.imshow('originalcam',frame)\n",
    "        cv.imshow('graycam',gray_frame)\n",
    "        cv.imshow('black & white',binary)\n",
    "        if cv.waitKey(1) & 0xFF == ord('q'):\n",
    "           break\n",
    "    else:\n",
    "        break\n",
    "cap.release()\n",
    "cv.destroyAllWindows()"
   ]
  }
 ],
 "metadata": {
  "kernelspec": {
   "display_name": "base",
   "language": "python",
   "name": "python3"
  },
  "language_info": {
   "codemirror_mode": {
    "name": "ipython",
    "version": 3
   },
   "file_extension": ".py",
   "mimetype": "text/x-python",
   "name": "python",
   "nbconvert_exporter": "python",
   "pygments_lexer": "ipython3",
   "version": "3.8.3"
  },
  "orig_nbformat": 4,
  "vscode": {
   "interpreter": {
    "hash": "ad2bdc8ecc057115af97d19610ffacc2b4e99fae6737bb82f5d7fb13d2f2c186"
   }
  }
 },
 "nbformat": 4,
 "nbformat_minor": 2
}
