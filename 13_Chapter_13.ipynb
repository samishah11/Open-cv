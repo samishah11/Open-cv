{
 "cells": [
  {
   "cell_type": "code",
   "execution_count": 6,
   "metadata": {},
   "outputs": [],
   "source": [
    "# basic function or manipulation in open cv\n",
    "import cv2 as cv\n",
    "import numpy as np\n",
    "img = cv.imread('resorces/image1.jpg')\n",
    "# resize\n",
    "img = cv.resize(img,(600,500))   # 1\n",
    "# gray image\n",
    "gray_img= cv.cvtColor(img,cv.COLOR_BGR2GRAY)   # 2\n",
    "# black and white\n",
    "thresh,binary = cv.threshold(gray_img, 127, 255, cv.THRESH_BINARY)  # 3\n",
    "# blurred image\n",
    "blurr_img = cv.GaussianBlur(img,(15,15),0)  # 4\n",
    "# edge detection\n",
    "edge_img= cv.Canny(img,48,48)  # 5\n",
    "# thikness of lines\n",
    "dilated_img= cv.dilate(edge_img,(27,27),iterations=1)  # 6\n",
    "mat_kernel = np.ones((3,3),np.uint8) # for image2\n",
    "dilated_img= cv.dilate(edge_img,(mat_kernel),iterations=1)  # 7\n",
    "# make thinner outline\n",
    "ero_img = cv.erode(dilated_img,mat_kernel,iterations=1)  # 8\n",
    "# cropping,(we use numpy not cv)\n",
    "cropped_img = img[70:450,150:400]  # 9 (for image1)\n",
    "\n",
    "\n",
    "\n",
    "cv.imshow('Original',img)  # 1\n",
    "# cv.imshow('gray',gray_img)  # 2\n",
    "# cv.imshow('black & white',binary)  # 3\n",
    "# cv.imshow('blur',blurr_img)  # 4\n",
    "# cv.imshow('edge',edge_img)  # 5\n",
    "# cv.imshow('dilated',dilated_img)  # 6\n",
    "# cv.imshow('dilated',dilated_img)  # 7\n",
    "# cv.imshow('erosion',ero_img)  # 8\n",
    "cv.imshow('cropping',cropped_img)  # 9\n",
    "cv.waitKey(0)\n",
    "cv.destroyAllWindows()"
   ]
  }
 ],
 "metadata": {
  "kernelspec": {
   "display_name": "base",
   "language": "python",
   "name": "python3"
  },
  "language_info": {
   "codemirror_mode": {
    "name": "ipython",
    "version": 3
   },
   "file_extension": ".py",
   "mimetype": "text/x-python",
   "name": "python",
   "nbconvert_exporter": "python",
   "pygments_lexer": "ipython3",
   "version": "3.8.3"
  },
  "orig_nbformat": 4,
  "vscode": {
   "interpreter": {
    "hash": "ad2bdc8ecc057115af97d19610ffacc2b4e99fae6737bb82f5d7fb13d2f2c186"
   }
  }
 },
 "nbformat": 4,
 "nbformat_minor": 2
}
