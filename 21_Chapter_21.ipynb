{
 "cells": [
  {
   "cell_type": "code",
   "execution_count": null,
   "metadata": {},
   "outputs": [],
   "source": [
    "# How to detect specific color\n",
    "import cv2 as cv\n",
    "import numpy as np\n",
    "\n",
    "# convert in hsv(Hue,Saturation,Value)\n",
    "# Sliders\n",
    "def slider():\n",
    "    pass\n",
    "path= \"resorces/image5.jpg\"\n",
    "cv.namedWindow(\"Bars\")\n",
    "cv.resizeWindow(\"Bars\",(700,300))\n",
    "\n",
    "cv.createTrackbar(\"Hue Min\",\"Bars\",0,179,slider)\n",
    "cv.createTrackbar(\"Hue Max\",\"Bars\",179,179,slider)\n",
    "cv.createTrackbar(\"Sat Min\",\"Bars\",0,255,slider)\n",
    "cv.createTrackbar(\"Sat Max\",\"Bars\",255,255,slider)\n",
    "cv.createTrackbar(\"Val Min\",\"Bars\",0,255,slider)\n",
    "cv.createTrackbar(\"Val Max\",\"Bars\",255,255,slider)\n",
    "img= cv.imread(path)\n",
    "# img= cv.imread(\"resorces/image5.jpg\")\n",
    "# img= cv.resize(img,(600,450))\n",
    "# hsv_img= cv.cvtColor(img,cv.COLOR_BGR2HSV)\n",
    "# hsv_img= cv.resize(hsv_img,(600,450))\n",
    "\n",
    "\n",
    "while (True):\n",
    "   img= cv.imread(path) \n",
    "   hsv_img= cv.cvtColor(img,cv.COLOR_BGR2HSV)\n",
    "   hue_min= cv.getTrackbarPos(\"Hue Min\",\"Bars\")\n",
    "   hue_max= cv.getTrackbarPos(\"Hue Max\",\"Bars\")\n",
    "   sat_min= cv.getTrackbarPos(\"Sat Min\",\"Bars\")\n",
    "   sat_max= cv.getTrackbarPos(\"Sat Max\",\"Bars\")\n",
    "   val_min= cv.getTrackbarPos(\"Val Min\",\"Bars\")\n",
    "   val_max= cv.getTrackbarPos(\"Val Max\",\"Bars\")\n",
    "   print(hue_min,hue_max,sat_min,sat_max,val_min,val_max)\n",
    "   \n",
    " # to see these changes inside the image\n",
    "   lower= np.array([hue_min,sat_min,val_min])\n",
    "   upper= np.array([hue_max,sat_max,val_max])\n",
    "   mask_img= cv.inRange(hsv_img,lower,upper)\n",
    "   out_img= cv.bitwise_and(img,img,mask=mask_img)\n",
    "   \n",
    "   img= cv.resize(img,(600,450))\n",
    "   hsv_img= cv.resize(hsv_img,(600,450))\n",
    "   mask_img= cv.resize(mask_img,(600,450))\n",
    "   out_img= cv.resize(out_img,(600,450))\n",
    "   \n",
    "   cv.imshow('Original',img)\n",
    "   cv.imshow('HSV',hsv_img)\n",
    "   cv.imshow('Mask',mask_img)\n",
    "   cv.imshow('final output',out_img)\n",
    "   \n",
    "   \n",
    "   if cv.waitKey(1) & 0xFF ==ord('q'):\n",
    "    break\n",
    "   \n",
    "cv.destroyAllWindows()\n",
    "\n"
   ]
  }
 ],
 "metadata": {
  "kernelspec": {
   "display_name": "base",
   "language": "python",
   "name": "python3"
  },
  "language_info": {
   "codemirror_mode": {
    "name": "ipython",
    "version": 3
   },
   "file_extension": ".py",
   "mimetype": "text/x-python",
   "name": "python",
   "nbconvert_exporter": "python",
   "pygments_lexer": "ipython3",
   "version": "3.9.13"
  },
  "orig_nbformat": 4,
  "vscode": {
   "interpreter": {
    "hash": "ad2bdc8ecc057115af97d19610ffacc2b4e99fae6737bb82f5d7fb13d2f2c186"
   }
  }
 },
 "nbformat": 4,
 "nbformat_minor": 2
}
