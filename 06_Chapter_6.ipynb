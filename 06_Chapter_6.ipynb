{
 "cells": [
  {
   "cell_type": "code",
   "execution_count": 3,
   "metadata": {},
   "outputs": [],
   "source": [
    "# reading a video.\n",
    "import cv2 as cv\n",
    "cap= cv.VideoCapture('resorces/video2.mp4')\n",
    "# if (cap.isOpened() ==False):\n",
    "#     print('error in reading video')\n",
    "    \n",
    "while(cap.isOpened()):\n",
    "    ret, frame= cap.read()\n",
    "    if ret ==True:\n",
    "       cv.imshow('video2',frame)\n",
    "       if cv.waitKey(1) & 0xFF ==ord('q'):\n",
    "            break\n",
    "    else:\n",
    "        break\n",
    "cap.release()\n",
    "cv.destroyAllWindows() "
   ]
  },
  {
   "cell_type": "code",
   "execution_count": 4,
   "metadata": {},
   "outputs": [],
   "source": [
    "# reading a video.\n",
    "import cv2 as cv\n",
    "cap= cv.VideoCapture('resorces/video1.mp4')\n",
    "# if (cap.isOpened() ==False):\n",
    "#     print('error in reading video')\n",
    "    \n",
    "while(cap.isOpened()):\n",
    "    ret, frame= cap.read()\n",
    "    if ret ==True:\n",
    "       cv.imshow('video1',frame)\n",
    "       if cv.waitKey(1) & 0xFF ==ord('q'):\n",
    "            break\n",
    "    else:\n",
    "        break\n",
    "cap.release()\n",
    "cv.destroyAllWindows() "
   ]
  },
  {
   "cell_type": "code",
   "execution_count": 2,
   "metadata": {},
   "outputs": [],
   "source": [
    "# converting in gray frame\n",
    "import cv2 as cv\n",
    "cap= cv.VideoCapture('resorces/video1.mp4')\n",
    "while(True):\n",
    "    (ret, frame) = cap.read()\n",
    "    grayframe=cv.cvtColor(frame,cv.COLOR_BGR2GRAY)\n",
    "    if ret ==True:\n",
    "        cv.imshow('video1',grayframe)\n",
    "    if cv.waitKey(0) & 0xFF ==ord('q'):\n",
    "            break\n",
    "    else:\n",
    "        break\n",
    "cap.release()\n",
    "cv.destroyAllWindows()     "
   ]
  },
  {
   "cell_type": "code",
   "execution_count": 1,
   "metadata": {},
   "outputs": [],
   "source": [
    "# converting in black and white frame\n",
    "import cv2 as cv\n",
    "cap= cv.VideoCapture('resorces/video1.mp4')\n",
    "while(True):\n",
    "    (ret, frame) = cap.read()\n",
    "    grayframe= cv.cvtColor(frame,cv.COLOR_BGR2GRAY)\n",
    "    thresh,binary = cv.threshold(grayframe, 127, 255, cv.THRESH_BINARY)\n",
    "    if ret ==True:\n",
    "        cv.imshow('video1',binary)\n",
    "    if cv.waitKey(0) & 0xFF ==ord('q'):\n",
    "            break\n",
    "    else:\n",
    "        break\n",
    "cap.release()\n",
    "cv.destroyAllWindows()   "
   ]
  },
  {
   "cell_type": "code",
   "execution_count": 1,
   "metadata": {},
   "outputs": [],
   "source": [
    "# writing a video.\n",
    "import cv2 as cv\n",
    "cap= cv.VideoCapture('resorces/video2.mp4')\n",
    "frame_width= int(cap.get(3))\n",
    "frame_hight= int(cap.get(4))\n",
    "out=cv.VideoWriter('resorces/out_video2.avi',cv.VideoWriter_fourcc('M', 'J', 'P','G'),10,(frame_width,frame_hight))\n",
    "while(True):\n",
    "    (ret, frame) = cap.read()\n",
    "    if ret ==True:\n",
    "       cv.imshow('video2',frame)\n",
    "       if cv.waitKey(1) & 0xFF ==ord('q'):\n",
    "            break\n",
    "    else:\n",
    "        break\n",
    "cap.release()\n",
    "cv.destroyAllWindows() "
   ]
  },
  {
   "cell_type": "code",
   "execution_count": null,
   "metadata": {},
   "outputs": [],
   "source": [
    "# Application of video writing\n",
    "# Face detect\n",
    "\n",
    "import cv2 as cv\n",
    "face_cascade = cv.CascadeClassifier('resorces/hear cascade_frontalface_default.xml')\n",
    "cap= cv.VideoCapture(0)\n",
    "while True:\n",
    "    _,img= cap.read()\n",
    "    gray= cv.cvtColor(img,cv.COLOR_BGR2GRAY)\n",
    "    faces= face_cascade.detectMultiScale(gray,1,1,4)\n",
    "    for (x,y,w,h) in faces:\n",
    "     if cv.waitKey(1) & 0xFF == ord('q'):\n",
    "        break\n",
    "    cap.release()"
   ]
  },
  {
   "cell_type": "code",
   "execution_count": null,
   "metadata": {},
   "outputs": [],
   "source": [
    "# Traffic detect from a video\n",
    "import cv2 as cv\n",
    "import numpy as np\n",
    "from time import sleep\n",
    "width_min= 80\n",
    "hight_min= 80\n",
    "offset= 6\n",
    "pos_line= 570\n",
    "delay= 60\n",
    "detect= []\n",
    "cars= 0\n",
    "def page_center(x,y,w,h):\n",
    "   x1 = int(w/2)\n",
    "   y1 = int(h/2)\n",
    "   cx = x+x1\n",
    "   cy = cx,cy\n",
    "cap = cv.VideoCapture('resorces/cars.mp4')\n",
    "subtraction = cv.bgsegm.createBackgroundSubtractorMOG()\n",
    "while True:\n",
    "    ret,farmel = cap.read()\n",
    "    tempo= float(1/delay)\n",
    "    "
   ]
  }
 ],
 "metadata": {
  "kernelspec": {
   "display_name": "base",
   "language": "python",
   "name": "python3"
  },
  "language_info": {
   "codemirror_mode": {
    "name": "ipython",
    "version": 3
   },
   "file_extension": ".py",
   "mimetype": "text/x-python",
   "name": "python",
   "nbconvert_exporter": "python",
   "pygments_lexer": "ipython3",
   "version": "3.8.3"
  },
  "orig_nbformat": 4,
  "vscode": {
   "interpreter": {
    "hash": "ad2bdc8ecc057115af97d19610ffacc2b4e99fae6737bb82f5d7fb13d2f2c186"
   }
  }
 },
 "nbformat": 4,
 "nbformat_minor": 2
}
